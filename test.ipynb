{
 "cells": [
  {
   "cell_type": "code",
   "execution_count": 6,
   "metadata": {},
   "outputs": [
    {
     "name": "stdout",
     "output_type": "stream",
     "text": [
      "X: tensor([[-0.4152, -0.2789, -0.5303],\n",
      "        [ 1.1577, -0.1904,  2.4185]])   \n",
      "Y:   tensor([[ 1.9417,  0.2312, -0.9128],\n",
      "        [-0.0198,  0.3870, -0.7881]])\n"
     ]
    }
   ],
   "source": [
    "import torch\n",
    "x = torch.randn(2, 3)\n",
    "y = torch.randn(2,3)\n",
    "print(f\"X: {x}   \\nY:   {y}\")\n",
    "\n"
   ]
  },
  {
   "cell_type": "code",
   "execution_count": 7,
   "metadata": {},
   "outputs": [
    {
     "data": {
      "text/plain": [
       "tensor([[-0.4152, -0.2789, -0.5303,  1.9417,  0.2312, -0.9128],\n",
       "        [ 1.1577, -0.1904,  2.4185, -0.0198,  0.3870, -0.7881]])"
      ]
     },
     "execution_count": 7,
     "metadata": {},
     "output_type": "execute_result"
    }
   ],
   "source": [
    "torch.cat((x,y),1)"
   ]
  },
  {
   "cell_type": "code",
   "execution_count": 11,
   "metadata": {},
   "outputs": [],
   "source": [
    "class Khiem:\n",
    "    def __init__(self,name,age):\n",
    "        self.func = callfunc()\n",
    "        self.func2 = callfunc()\n",
    "        self.name = name\n",
    "        self.age = age\n",
    "    def intuoi(self,x,y):\n",
    "        self.func(x)\n",
    "        print(self.func.use)\n",
    "        self.func2(y)\n",
    "        print(self.func2.use)"
   ]
  },
  {
   "cell_type": "code",
   "execution_count": 12,
   "metadata": {},
   "outputs": [
    {
     "name": "stdout",
     "output_type": "stream",
     "text": [
      "1\n",
      "1\n"
     ]
    }
   ],
   "source": [
    "khiem = Khiem('khiem',14)\n",
    "khiem.intuoi(3,4)"
   ]
  },
  {
   "cell_type": "code",
   "execution_count": null,
   "metadata": {},
   "outputs": [],
   "source": []
  }
 ],
 "metadata": {
  "kernelspec": {
   "display_name": "twostream",
   "language": "python",
   "name": "python3"
  },
  "language_info": {
   "codemirror_mode": {
    "name": "ipython",
    "version": 3
   },
   "file_extension": ".py",
   "mimetype": "text/x-python",
   "name": "python",
   "nbconvert_exporter": "python",
   "pygments_lexer": "ipython3",
   "version": "3.11.0"
  }
 },
 "nbformat": 4,
 "nbformat_minor": 2
}
