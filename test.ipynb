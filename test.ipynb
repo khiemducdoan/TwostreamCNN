{
 "cells": [
  {
   "cell_type": "code",
   "execution_count": 1,
   "metadata": {},
   "outputs": [],
   "source": [
    "class callfunc:\n",
    "    def __init__(self):\n",
    "        self.use = 0\n",
    "    def __call__(self,x):\n",
    "        self.use += 1"
   ]
  },
  {
   "cell_type": "code",
   "execution_count": 11,
   "metadata": {},
   "outputs": [],
   "source": [
    "class Khiem:\n",
    "    def __init__(self,name,age):\n",
    "        self.func = callfunc()\n",
    "        self.func2 = callfunc()\n",
    "        self.name = name\n",
    "        self.age = age\n",
    "    def intuoi(self,x,y):\n",
    "        self.func(x)\n",
    "        print(self.func.use)\n",
    "        self.func2(y)\n",
    "        print(self.func2.use)"
   ]
  },
  {
   "cell_type": "code",
   "execution_count": 12,
   "metadata": {},
   "outputs": [
    {
     "name": "stdout",
     "output_type": "stream",
     "text": [
      "1\n",
      "1\n"
     ]
    }
   ],
   "source": [
    "khiem = Khiem('khiem',14)\n",
    "khiem.intuoi(3,4)"
   ]
  },
  {
   "cell_type": "code",
   "execution_count": null,
   "metadata": {},
   "outputs": [],
   "source": []
  }
 ],
 "metadata": {
  "kernelspec": {
   "display_name": "twostream",
   "language": "python",
   "name": "python3"
  },
  "language_info": {
   "codemirror_mode": {
    "name": "ipython",
    "version": 3
   },
   "file_extension": ".py",
   "mimetype": "text/x-python",
   "name": "python",
   "nbconvert_exporter": "python",
   "pygments_lexer": "ipython3",
   "version": "3.10.13"
  }
 },
 "nbformat": 4,
 "nbformat_minor": 2
}
