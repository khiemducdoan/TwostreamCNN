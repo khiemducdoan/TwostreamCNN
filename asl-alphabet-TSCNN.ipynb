{
 "cells": [
  {
   "cell_type": "code",
   "execution_count": 1,
   "metadata": {},
   "outputs": [],
   "source": [
    "from math import log2\n",
    "\n",
    "import torch\n",
    "import torch.optim as optim \n",
    "import torchvision.datasets as datasets\n",
    "import torchvision.transforms as transforms\n",
    "from torch.utils.data import DataLoader\n",
    "from torch.utils.tensorboard import SummaryWriter\n",
    "from tqdm import tqdm\n",
    "\n",
    "transform = transforms.Compose([                                                                                   \n",
    "        transforms.Resize((226, 226)),\n",
    "        transforms.ToTensor(),\n",
    "        transforms.RandomHorizontalFlip(p=0.5),\n",
    "        transforms.Normalize([0.5 for _ in range(3)], [0.5 for _ in range(3)],),]\n",
    ")\n",
    "\n",
    "torch.backends.cudnn.benchmarks = True\n",
    "\n",
    "def get_loader(root_path):\n",
    "    batch_size = 32\n",
    "    dataset = datasets.ImageFolder(root_path, transform=transform)\n",
    "    loader = DataLoader(\n",
    "        dataset,\n",
    "        batch_size=batch_size,\n",
    "        shuffle=True,\n",
    "        num_workers=8,\n",
    "        pin_memory=True,\n",
    "    )\n",
    "    return loader, dataset"
   ]
  },
  {
   "cell_type": "code",
   "execution_count": 7,
   "metadata": {},
   "outputs": [],
   "source": [
    "import torchvision.datasets as datasets\n",
    "\n",
    "dataset = datasets.ImageFolder(root=\"asl_alphabet_train/asl_alphabet_train/\", transform=transform)\n"
   ]
  },
  {
   "cell_type": "code",
   "execution_count": 3,
   "metadata": {},
   "outputs": [
    {
     "data": {
      "text/plain": [
       "87000"
      ]
     },
     "execution_count": 3,
     "metadata": {},
     "output_type": "execute_result"
    }
   ],
   "source": [
    "len(dataset)"
   ]
  },
  {
   "cell_type": "code",
   "execution_count": 33,
   "metadata": {},
   "outputs": [],
   "source": [
    "import torch\n",
    "from torch.utils.data import Dataset\n",
    "from torchvision import transforms\n",
    "from PIL import Image\n",
    "import os\n",
    "\n",
    "class ASL_Dataset(Dataset):\n",
    "    def __init__(self, root, transform=None, target_transform=None):\n",
    "        self.root = root\n",
    "        self.transform = transform\n",
    "        self.target_transform = target_transform\n",
    "        self.classes = sorted(os.listdir(root))\n",
    "        # self.class_to_idx = {cls: idx for idx, cls in enumerate(self.classes)}\n",
    "        self.samples = []\n",
    "\n",
    "        for class_name in self.classes:\n",
    "            class_path = os.path.join(root, class_name)\n",
    "            if not os.path.isdir(class_path):\n",
    "                continue\n",
    "            for filename in os.listdir(class_path):\n",
    "                path = os.path.join(class_path, filename)\n",
    "                if os.path.isfile(path):\n",
    "                    self.samples.append((path, class_name))\n",
    "\n",
    "    def __len__(self):\n",
    "        return len(self.samples)\n",
    "\n",
    "    def __getitem__(self, index):\n",
    "        image_path, label = self.samples[index]\n",
    "        image = Image.open(image_path).convert('RGB')\n",
    "\n",
    "        if self.transform is not None:\n",
    "            image = self.transform(image)\n",
    "        if self.target_transform is not None:\n",
    "            label = self.target_transform(label)\n",
    "\n",
    "        return image, label\n",
    "\n",
    "transform = transforms.Compose([                                                                                   \n",
    "        transforms.Resize((226, 226)),\n",
    "        transforms.ToTensor(),\n",
    "        transforms.RandomHorizontalFlip(p=0.5),\n",
    "        transforms.Normalize([0.5 for _ in range(3)], [0.5 for _ in range(3)],),]\n",
    ")\n",
    "dataset = ASL_Dataset(root='asl_alphabet_train/asl_alphabet_train/', transform=transform)\n",
    "\n",
    "dataloader = torch.utils.data.DataLoader(dataset, batch_size=32, shuffle=True)\n"
   ]
  },
  {
   "cell_type": "code",
   "execution_count": 35,
   "metadata": {},
   "outputs": [
    {
     "data": {
      "text/plain": [
       "(tensor([[[-1.0000, -1.0000, -0.9922,  ..., -0.9608, -1.0000, -1.0000],\n",
       "          [-1.0000, -1.0000, -0.9373,  ..., -0.8980, -0.9373, -1.0000],\n",
       "          [-1.0000, -0.9529, -0.6078,  ..., -0.2157, -0.3882, -0.9686],\n",
       "          ...,\n",
       "          [-0.9922, -0.9373, -0.5765,  ...,  0.1686, -0.0667, -0.9451],\n",
       "          [-1.0000, -0.9451, -0.6863,  ..., -0.0588, -0.2784, -0.9843],\n",
       "          [-1.0000, -1.0000, -0.9608,  ..., -0.9451, -0.9765, -1.0000]],\n",
       " \n",
       "         [[-0.9451, -0.9686, -0.9843,  ..., -1.0000, -0.9922, -0.9529],\n",
       "          [-0.9608, -0.9843, -0.9686,  ..., -0.9686, -0.9451, -0.9608],\n",
       "          [-0.9922, -0.9765, -0.6471,  ..., -0.2784, -0.4039, -0.9373],\n",
       "          ...,\n",
       "          [-1.0000, -0.9529, -0.5608,  ...,  0.1294, -0.0745, -0.9451],\n",
       "          [-0.9922, -0.9294, -0.6627,  ..., -0.0667, -0.2549, -0.9216],\n",
       "          [-0.9686, -0.9843, -0.9451,  ..., -0.9451, -0.9137, -0.9294]],\n",
       " \n",
       "         [[ 0.8902,  0.9843,  1.0000,  ...,  0.9843,  0.9843,  1.0000],\n",
       "          [ 0.9843,  0.8510,  0.7176,  ...,  0.6235,  0.7569,  0.8667],\n",
       "          [ 0.9922,  0.6706,  0.4745,  ...,  0.5294,  0.7490,  0.6471],\n",
       "          ...,\n",
       "          [ 0.9843,  0.5843,  0.1843,  ...,  0.3490,  0.7098,  0.5216],\n",
       "          [ 0.9922,  0.7647,  0.4902,  ...,  0.7098,  0.8588,  0.6078],\n",
       "          [ 0.9922,  0.8980,  0.6941,  ...,  0.5216,  0.6157,  0.7412]]]),\n",
       " 'B')"
      ]
     },
     "execution_count": 35,
     "metadata": {},
     "output_type": "execute_result"
    }
   ],
   "source": [
    "dataset.__getitem__(3001)"
   ]
  },
  {
   "cell_type": "code",
   "execution_count": 36,
   "metadata": {},
   "outputs": [
    {
     "ename": "AttributeError",
     "evalue": "'tuple' object has no attribute 'shape'",
     "output_type": "error",
     "traceback": [
      "\u001b[0;31m---------------------------------------------------------------------------\u001b[0m",
      "\u001b[0;31mAttributeError\u001b[0m                            Traceback (most recent call last)",
      "\u001b[1;32m/home/nyanmaruk/Code/Learning/LearnAndCode/TwostreamCNN/asl-alphabet-TSCNN.ipynb Cell 6\u001b[0m line \u001b[0;36m2\n\u001b[1;32m      <a href='vscode-notebook-cell:/home/nyanmaruk/Code/Learning/LearnAndCode/TwostreamCNN/asl-alphabet-TSCNN.ipynb#W5sZmlsZQ%3D%3D?line=0'>1</a>\u001b[0m \u001b[39mfor\u001b[39;00m _, (x, y) \u001b[39min\u001b[39;00m \u001b[39menumerate\u001b[39m(dataloader):\n\u001b[0;32m----> <a href='vscode-notebook-cell:/home/nyanmaruk/Code/Learning/LearnAndCode/TwostreamCNN/asl-alphabet-TSCNN.ipynb#W5sZmlsZQ%3D%3D?line=1'>2</a>\u001b[0m     \u001b[39mprint\u001b[39m(x\u001b[39m.\u001b[39mshape, y\u001b[39m.\u001b[39mshape)\n\u001b[1;32m      <a href='vscode-notebook-cell:/home/nyanmaruk/Code/Learning/LearnAndCode/TwostreamCNN/asl-alphabet-TSCNN.ipynb#W5sZmlsZQ%3D%3D?line=2'>3</a>\u001b[0m     \u001b[39mbreak\u001b[39;00m\n",
      "\u001b[0;31mAttributeError\u001b[0m: 'tuple' object has no attribute 'shape'"
     ]
    }
   ],
   "source": [
    "for _, (x, y) in enumerate(dataloader):\n",
    "    print(x.shape, y.shape)\n",
    "    break"
   ]
  }
 ],
 "metadata": {
  "kernelspec": {
   "display_name": "base",
   "language": "python",
   "name": "python3"
  },
  "language_info": {
   "codemirror_mode": {
    "name": "ipython",
    "version": 3
   },
   "file_extension": ".py",
   "mimetype": "text/x-python",
   "name": "python",
   "nbconvert_exporter": "python",
   "pygments_lexer": "ipython3",
   "version": "3.11.5"
  }
 },
 "nbformat": 4,
 "nbformat_minor": 2
}
